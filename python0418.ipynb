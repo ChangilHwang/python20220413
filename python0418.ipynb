{
  "nbformat": 4,
  "nbformat_minor": 0,
  "metadata": {
    "colab": {
      "name": "python0418.ipynb",
      "provenance": [],
      "authorship_tag": "ABX9TyOllMXOQDHKxJJQgrzf+N9w",
      "include_colab_link": true
    },
    "kernelspec": {
      "name": "python3",
      "display_name": "Python 3"
    },
    "language_info": {
      "name": "python"
    }
  },
  "cells": [
    {
      "cell_type": "markdown",
      "metadata": {
        "id": "view-in-github",
        "colab_type": "text"
      },
      "source": [
        "<a href=\"https://colab.research.google.com/github/ChangilHwang/python20220413/blob/main/python0418.ipynb\" target=\"_parent\"><img src=\"https://colab.research.google.com/assets/colab-badge.svg\" alt=\"Open In Colab\"/></a>"
      ]
    },
    {
      "cell_type": "code",
      "execution_count": null,
      "metadata": {
        "id": "xq79LTbYIuOV"
      },
      "outputs": [],
      "source": [
        "# pg.62 표준입력\n",
        "# input()함수는 키보드로 입력을 받을 때 사용된다.\n",
        "n = input()\n",
        "print(f'당신이 입력한 수는 {n} 입니다.')\n",
        "\n"
      ]
    },
    {
      "cell_type": "code",
      "source": [
        "name = input('이름을 입력하세요>>')\n",
        "age = input('나이를 입력하세요>>')\n",
        "print(f'입력된 이름은 {name}이고 나이는 {age}입니다.')"
      ],
      "metadata": {
        "id": "0p5DfpUsJ9HV"
      },
      "execution_count": null,
      "outputs": []
    },
    {
      "cell_type": "code",
      "source": [
        "fruit = input('좋아하는 과일은 ?')\n",
        "print(f'당신이 좋아하는 과일은 {fruit} 입니다.')"
      ],
      "metadata": {
        "colab": {
          "base_uri": "https://localhost:8080/"
        },
        "id": "AfSHIZjNKA39",
        "outputId": "eb4c3c05-723b-48f5-df7d-3f8479d0edae"
      },
      "execution_count": 4,
      "outputs": [
        {
          "output_type": "stream",
          "name": "stdout",
          "text": [
            "좋아하는 과일은 ?포도\n",
            "당신이 좋아하는 과일은 포도 입니다.\n"
          ]
        }
      ]
    }
  ]
}