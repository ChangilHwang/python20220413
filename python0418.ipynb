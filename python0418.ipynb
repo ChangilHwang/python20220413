{
  "nbformat": 4,
  "nbformat_minor": 0,
  "metadata": {
    "colab": {
      "name": "python0418.ipynb",
      "provenance": [],
      "collapsed_sections": [],
      "authorship_tag": "ABX9TyOhXIko9QptWL1YTagPapgR",
      "include_colab_link": true
    },
    "kernelspec": {
      "name": "python3",
      "display_name": "Python 3"
    },
    "language_info": {
      "name": "python"
    }
  },
  "cells": [
    {
      "cell_type": "markdown",
      "metadata": {
        "id": "view-in-github",
        "colab_type": "text"
      },
      "source": [
        "<a href=\"https://colab.research.google.com/github/ChangilHwang/python20220413/blob/main/python0418.ipynb\" target=\"_parent\"><img src=\"https://colab.research.google.com/assets/colab-badge.svg\" alt=\"Open In Colab\"/></a>"
      ]
    },
    {
      "cell_type": "code",
      "execution_count": null,
      "metadata": {
        "id": "xq79LTbYIuOV"
      },
      "outputs": [],
      "source": [
        "# pg.62 표준입력\n",
        "# input()함수는 키보드로 입력을 받을 때 사용된다.\n",
        "n = input()\n",
        "print(f'당신이 입력한 수는 {n} 입니다.')\n",
        "\n"
      ]
    },
    {
      "cell_type": "code",
      "source": [
        "name = input('이름을 입력하세요>>')\n",
        "age = input('나이를 입력하세요>>')\n",
        "print(f'입력된 이름은 {name}이고 나이는 {age}입니다.')"
      ],
      "metadata": {
        "id": "0p5DfpUsJ9HV"
      },
      "execution_count": null,
      "outputs": []
    },
    {
      "cell_type": "code",
      "source": [
        "fruit = input('좋아하는 과일은 ?')\n",
        "print(f'당신이 좋아하는 과일은 {fruit} 입니다.')"
      ],
      "metadata": {
        "id": "AfSHIZjNKA39"
      },
      "execution_count": null,
      "outputs": []
    },
    {
      "cell_type": "code",
      "source": [
        "n = input(\" 정수를 입력하세요 >>>\") \n",
        "print(type(n))\n",
        "# input을 통해서 입력한  모든 것들은 다 str이다. "
      ],
      "metadata": {
        "id": "IMw2IWKZKzHG"
      },
      "execution_count": null,
      "outputs": []
    },
    {
      "cell_type": "code",
      "source": [
        "price = 5000\n",
        "n = int(input(' 할부 개월 입력 >>>'))\n",
        "print(f'매달 내는 돈은 {price / n} 원 입니다.')"
      ],
      "metadata": {
        "id": "oAFSGk4kLhgp"
      },
      "execution_count": null,
      "outputs": []
    },
    {
      "cell_type": "code",
      "source": [
        "a = float(input('첫 번째 실수를 입력하세요>>>'))\n",
        "b = float(input('두 번째 실수를 입력하세요>>>'))\n",
        "print(f'{a}와 {b}의 합은 {a+b} 입니다.')"
      ],
      "metadata": {
        "id": "CZKVFOnaM-nr"
      },
      "execution_count": null,
      "outputs": []
    },
    {
      "cell_type": "code",
      "source": [
        "# p66 #2\n",
        "month = [31,28,31,30,31,30,31,31,30,31,30,31]\n",
        "ask =int(input('1~12월 사이의 월을 입력하세요>>>'))\n",
        "print(f'{ask}월은 {month[ask-1]} 일까지 있습니다. ')  # -1하는 이유는 컴퓨터는 0부터 시작하기때문에 -1을 해줘야 한다.\n",
        "\n"
      ],
      "metadata": {
        "colab": {
          "base_uri": "https://localhost:8080/"
        },
        "id": "QTol2niSOEkM",
        "outputId": "cb68b3df-f692-4caa-d61a-da949545a0e8"
      },
      "execution_count": 8,
      "outputs": [
        {
          "output_type": "stream",
          "name": "stdout",
          "text": [
            "1~12월 사이의 월을 입력하세요>>>2\n",
            "2월은 28 일까지 있습니다. \n"
          ]
        }
      ]
    },
    {
      "cell_type": "code",
      "source": [
        "# p66 #3\n",
        "\n",
        "english_dict = {\n",
        "    'flower':'꽃'\n",
        "    'fly':'날다'\n",
        "    'floor':'바닥'\n",
        "}\n",
        "\n",
        "word = input('영어 단어를 입력하세요 >>>')\n",
        "print(f'{word}: {enlgish_dict[word]}')\n"
      ],
      "metadata": {
        "id": "NRIjjqJLQJ-V"
      },
      "execution_count": null,
      "outputs": []
    },
    {
      "cell_type": "code",
      "source": [
        "s = set()\n",
        "\n",
        "hope = input('희망하는 수학여행지를 입력하세요>>>')\n",
        "s.add(hope)\n",
        "hope = input('희망하는 수학여행지를 입력하세요>>>')\n",
        "s.add(hope)\n",
        "hope = input('희망하는 수학여행지를 입력하세요>>>')\n",
        "s.add(hope)\n",
        "\n",
        "print(f'조사된 수학 여행지는 {s}입니다.')"
      ],
      "metadata": {
        "id": "ZF_JR4wtSfsj"
      },
      "execution_count": null,
      "outputs": []
    },
    {
      "cell_type": "code",
      "source": [
        "# 삼항 연산자\n",
        "\n",
        "# 참 if             조건식             else 거짓"
      ],
      "metadata": {
        "id": "W5mBzUxdf1i9"
      },
      "execution_count": null,
      "outputs": []
    },
    {
      "cell_type": "code",
      "source": [
        "# p85 #1\n",
        "\n",
        "no = input(' 10~99 사이의 정수를 입력하세요 >>>')\n",
        "\n",
        "print(f'십의 자리 : {no[0]} ')\n",
        "print(f'십의 자리 : {no[1]} ')\n",
        "\n",
        "10~99"
      ],
      "metadata": {
        "id": "D0o8TypcjwLb"
      },
      "execution_count": null,
      "outputs": []
    }
  ]
}