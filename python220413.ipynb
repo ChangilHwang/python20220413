{
  "nbformat": 4,
  "nbformat_minor": 0,
  "metadata": {
    "colab": {
      "name": "python220413.ipynb",
      "provenance": [],
      "collapsed_sections": [],
      "authorship_tag": "ABX9TyN6YW8DPSbrno2CAV0WGQvB",
      "include_colab_link": true
    },
    "kernelspec": {
      "name": "python3",
      "display_name": "Python 3"
    },
    "language_info": {
      "name": "python"
    }
  },
  "cells": [
    {
      "cell_type": "markdown",
      "metadata": {
        "id": "view-in-github",
        "colab_type": "text"
      },
      "source": [
        "<a href=\"https://colab.research.google.com/github/ChangilHwang/python20220413/blob/main/python220413.ipynb\" target=\"_parent\"><img src=\"https://colab.research.google.com/assets/colab-badge.svg\" alt=\"Open In Colab\"/></a>"
      ]
    },
    {
      "cell_type": "code",
      "execution_count": 4,
      "metadata": {
        "colab": {
          "base_uri": "https://localhost:8080/",
          "height": 35
        },
        "id": "RsFAyWV9dHRz",
        "outputId": "9d020fa7-3064-4e2c-e5ca-e8e7cbcf1c2e"
      },
      "outputs": [
        {
          "output_type": "execute_result",
          "data": {
            "text/plain": [
              "'H'"
            ],
            "application/vnd.google.colaboratory.intrinsic+json": {
              "type": "string"
            }
          },
          "metadata": {},
          "execution_count": 4
        }
      ],
      "source": [
        "# 파이썬\n",
        "# 1. 인터프리어 언어이다. 한줄한줄 실행한 결과를 바로바로 볼 수 있다.\n",
        "# 2. 플랫폼에 독립적이다. 맥 윈도우 리눅스 전부 같은 파이썬 코드를 사용할 수 있다.\n",
        "# 3. 객체지향 언어이다. 실행 중에 처리할 수 있는  작업을 동적 작업이라고 함\n",
        "\n",
        "# 주석 comment\n",
        "# 프로그램의 소스 코드에 설명을 작성하는 부분을 주석이라고 한다.\n",
        "\n",
        "str(True)\n",
        "\n",
        "#인덱싱\n",
        "s = 'Hello'\n",
        "s[0]\n",
        "\n",
        "#슬라이싱 , 몇번째부터 몇번쨰 여러글자\n",
        "s = 'Hello'\n",
        "s[0:2] # [시작:끝(미만)]\n",
        "\n",
        "\n",
        "\n"
      ]
    }
  ]
}